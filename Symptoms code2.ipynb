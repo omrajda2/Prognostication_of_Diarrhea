{
 "cells": [
  {
   "cell_type": "code",
   "execution_count": 35,
   "metadata": {},
   "outputs": [],
   "source": [
    "#Data Analysis and Wrangling\n",
    "import pandas as pd\n",
    "import numpy as np\n",
    "\n",
    "#To split the dataset into train and test datasets\n",
    "from sklearn.cross_validation import train_test_split\n",
    "#To model the Gaussian Navie Bayes classifier\n",
    "from sklearn.naive_bayes import GaussianNB\n",
    "#To calculate the accuracy score of the model\n",
    "from sklearn.metrics import accuracy_score\n",
    "# SVC \n",
    "from sklearn.svm import SVC, LinearSVC\n",
    "#KNN\n",
    "from sklearn.neighbors import KNeighborsClassifier"
   ]
  },
  {
   "cell_type": "code",
   "execution_count": 2,
   "metadata": {},
   "outputs": [
    {
     "data": {
      "text/html": [
       "<div>\n",
       "<style scoped>\n",
       "    .dataframe tbody tr th:only-of-type {\n",
       "        vertical-align: middle;\n",
       "    }\n",
       "\n",
       "    .dataframe tbody tr th {\n",
       "        vertical-align: top;\n",
       "    }\n",
       "\n",
       "    .dataframe thead th {\n",
       "        text-align: right;\n",
       "    }\n",
       "</style>\n",
       "<table border=\"1\" class=\"dataframe\">\n",
       "  <thead>\n",
       "    <tr style=\"text-align: right;\">\n",
       "      <th></th>\n",
       "      <th>UniqueKey</th>\n",
       "      <th>STATUS1</th>\n",
       "      <th>OVERALLSTATUS</th>\n",
       "      <th>Latitude</th>\n",
       "      <th>Longitude</th>\n",
       "      <th>GENDER</th>\n",
       "      <th>OCCUPATION</th>\n",
       "      <th>TOTALNUMBEROFHH</th>\n",
       "      <th>TOTALNUMBEROFBEDROOMS</th>\n",
       "      <th>AGE</th>\n",
       "      <th>...</th>\n",
       "      <th>PLOA</th>\n",
       "      <th>PHEADACHE</th>\n",
       "      <th>NODABDPAIN</th>\n",
       "      <th>PLABDPAIN</th>\n",
       "      <th>TYPEOFHOUSEHOLD</th>\n",
       "      <th>TOILET</th>\n",
       "      <th>WATERTREATMENT</th>\n",
       "      <th>USESTREAMWATERFORDRINKINGANDCOOKING</th>\n",
       "      <th>USEWELLWATERFORDRINKINGANDCOOKING</th>\n",
       "      <th>USEBOREWELLFORDRINKINGANDCOOKING</th>\n",
       "    </tr>\n",
       "  </thead>\n",
       "  <tbody>\n",
       "    <tr>\n",
       "      <th>0</th>\n",
       "      <td>1</td>\n",
       "      <td>CASE</td>\n",
       "      <td>CASE</td>\n",
       "      <td>15.592223</td>\n",
       "      <td>74.162292</td>\n",
       "      <td>1</td>\n",
       "      <td>UNEMPLOYED</td>\n",
       "      <td>5</td>\n",
       "      <td>2</td>\n",
       "      <td>35</td>\n",
       "      <td>...</td>\n",
       "      <td>NaN</td>\n",
       "      <td>NaN</td>\n",
       "      <td>NaN</td>\n",
       "      <td>YES</td>\n",
       "      <td>SEMI-PUCCA</td>\n",
       "      <td>YES</td>\n",
       "      <td>BOILING</td>\n",
       "      <td>No</td>\n",
       "      <td>No</td>\n",
       "      <td>Yes</td>\n",
       "    </tr>\n",
       "    <tr>\n",
       "      <th>1</th>\n",
       "      <td>2</td>\n",
       "      <td>CONTROL</td>\n",
       "      <td>NEIGHBOUR CONTROL</td>\n",
       "      <td>15.600415</td>\n",
       "      <td>74.170596</td>\n",
       "      <td>1</td>\n",
       "      <td>UNEMPLOYED</td>\n",
       "      <td>6</td>\n",
       "      <td>2</td>\n",
       "      <td>37</td>\n",
       "      <td>...</td>\n",
       "      <td>NaN</td>\n",
       "      <td>NaN</td>\n",
       "      <td>NaN</td>\n",
       "      <td>NaN</td>\n",
       "      <td>PUCCA</td>\n",
       "      <td>YES</td>\n",
       "      <td>FILTERING</td>\n",
       "      <td>Yes</td>\n",
       "      <td>No</td>\n",
       "      <td>No</td>\n",
       "    </tr>\n",
       "    <tr>\n",
       "      <th>2</th>\n",
       "      <td>3</td>\n",
       "      <td>CASE</td>\n",
       "      <td>CASE</td>\n",
       "      <td>15.592117</td>\n",
       "      <td>74.162198</td>\n",
       "      <td>1</td>\n",
       "      <td>STUDENT</td>\n",
       "      <td>4</td>\n",
       "      <td>2</td>\n",
       "      <td>18</td>\n",
       "      <td>...</td>\n",
       "      <td>NO</td>\n",
       "      <td>NO</td>\n",
       "      <td>NaN</td>\n",
       "      <td>NO</td>\n",
       "      <td>SEMI-PUCCA</td>\n",
       "      <td>YES</td>\n",
       "      <td>NONE</td>\n",
       "      <td>Yes</td>\n",
       "      <td>No</td>\n",
       "      <td>No</td>\n",
       "    </tr>\n",
       "    <tr>\n",
       "      <th>3</th>\n",
       "      <td>4</td>\n",
       "      <td>CASE</td>\n",
       "      <td>CASE</td>\n",
       "      <td>15.592117</td>\n",
       "      <td>74.162198</td>\n",
       "      <td>0</td>\n",
       "      <td>STUDENT</td>\n",
       "      <td>4</td>\n",
       "      <td>2</td>\n",
       "      <td>16</td>\n",
       "      <td>...</td>\n",
       "      <td>NaN</td>\n",
       "      <td>NaN</td>\n",
       "      <td>4.0</td>\n",
       "      <td>NO</td>\n",
       "      <td>SEMI-PUCCA</td>\n",
       "      <td>YES</td>\n",
       "      <td>NONE</td>\n",
       "      <td>Yes</td>\n",
       "      <td>No</td>\n",
       "      <td>No</td>\n",
       "    </tr>\n",
       "    <tr>\n",
       "      <th>4</th>\n",
       "      <td>5</td>\n",
       "      <td>CONTROL</td>\n",
       "      <td>NEIGHBOUR CONTROL</td>\n",
       "      <td>15.589461</td>\n",
       "      <td>74.160910</td>\n",
       "      <td>0</td>\n",
       "      <td>UNEMPLOYED</td>\n",
       "      <td>4</td>\n",
       "      <td>3</td>\n",
       "      <td>26</td>\n",
       "      <td>...</td>\n",
       "      <td>NaN</td>\n",
       "      <td>NaN</td>\n",
       "      <td>NaN</td>\n",
       "      <td>NaN</td>\n",
       "      <td>SEMI-PUCCA</td>\n",
       "      <td>YES</td>\n",
       "      <td>NONE</td>\n",
       "      <td>No</td>\n",
       "      <td>Yes</td>\n",
       "      <td>No</td>\n",
       "    </tr>\n",
       "  </tbody>\n",
       "</table>\n",
       "<p>5 rows × 36 columns</p>\n",
       "</div>"
      ],
      "text/plain": [
       "   UniqueKey  STATUS1      OVERALLSTATUS   Latitude  Longitude  GENDER  \\\n",
       "0          1     CASE               CASE  15.592223  74.162292       1   \n",
       "1          2  CONTROL  NEIGHBOUR CONTROL  15.600415  74.170596       1   \n",
       "2          3     CASE               CASE  15.592117  74.162198       1   \n",
       "3          4     CASE               CASE  15.592117  74.162198       0   \n",
       "4          5  CONTROL  NEIGHBOUR CONTROL  15.589461  74.160910       0   \n",
       "\n",
       "   OCCUPATION  TOTALNUMBEROFHH  TOTALNUMBEROFBEDROOMS  AGE  \\\n",
       "0  UNEMPLOYED                5                      2   35   \n",
       "1  UNEMPLOYED                6                      2   37   \n",
       "2     STUDENT                4                      2   18   \n",
       "3     STUDENT                4                      2   16   \n",
       "4  UNEMPLOYED                4                      3   26   \n",
       "\n",
       "                ...                PLOA PHEADACHE NODABDPAIN PLABDPAIN  \\\n",
       "0               ...                 NaN       NaN        NaN       YES   \n",
       "1               ...                 NaN       NaN        NaN       NaN   \n",
       "2               ...                  NO        NO        NaN        NO   \n",
       "3               ...                 NaN       NaN        4.0        NO   \n",
       "4               ...                 NaN       NaN        NaN       NaN   \n",
       "\n",
       "  TYPEOFHOUSEHOLD TOILET WATERTREATMENT USESTREAMWATERFORDRINKINGANDCOOKING  \\\n",
       "0      SEMI-PUCCA    YES        BOILING                                  No   \n",
       "1           PUCCA    YES      FILTERING                                 Yes   \n",
       "2      SEMI-PUCCA    YES           NONE                                 Yes   \n",
       "3      SEMI-PUCCA    YES           NONE                                 Yes   \n",
       "4      SEMI-PUCCA    YES           NONE                                  No   \n",
       "\n",
       "  USEWELLWATERFORDRINKINGANDCOOKING USEBOREWELLFORDRINKINGANDCOOKING  \n",
       "0                                No                              Yes  \n",
       "1                                No                               No  \n",
       "2                                No                               No  \n",
       "3                                No                               No  \n",
       "4                               Yes                               No  \n",
       "\n",
       "[5 rows x 36 columns]"
      ]
     },
     "execution_count": 2,
     "metadata": {},
     "output_type": "execute_result"
    }
   ],
   "source": [
    "data=pd.read_csv(\"/home/omraj/project/des.csv\")\n",
    "Symp=data\n",
    "Symp.head(5)"
   ]
  },
  {
   "cell_type": "markdown",
   "metadata": {},
   "source": [
    "Dropping the columns which we do not need\n"
   ]
  },
  {
   "cell_type": "code",
   "execution_count": 3,
   "metadata": {},
   "outputs": [
    {
     "data": {
      "text/html": [
       "<div>\n",
       "<style scoped>\n",
       "    .dataframe tbody tr th:only-of-type {\n",
       "        vertical-align: middle;\n",
       "    }\n",
       "\n",
       "    .dataframe tbody tr th {\n",
       "        vertical-align: top;\n",
       "    }\n",
       "\n",
       "    .dataframe thead th {\n",
       "        text-align: right;\n",
       "    }\n",
       "</style>\n",
       "<table border=\"1\" class=\"dataframe\">\n",
       "  <thead>\n",
       "    <tr style=\"text-align: right;\">\n",
       "      <th></th>\n",
       "      <th>FEVER</th>\n",
       "      <th>DIARRHOEA</th>\n",
       "      <th>BLOODYDIARRHOEA</th>\n",
       "      <th>NAUSEA</th>\n",
       "      <th>LOSSOFAPETITE</th>\n",
       "      <th>ABDOMINALPAIN</th>\n",
       "      <th>HEADACHE</th>\n",
       "      <th>FATIGUE</th>\n",
       "    </tr>\n",
       "  </thead>\n",
       "  <tbody>\n",
       "    <tr>\n",
       "      <th>0</th>\n",
       "      <td>No</td>\n",
       "      <td>Yes</td>\n",
       "      <td>No</td>\n",
       "      <td>No</td>\n",
       "      <td>No</td>\n",
       "      <td>Yes</td>\n",
       "      <td>No</td>\n",
       "      <td>No</td>\n",
       "    </tr>\n",
       "    <tr>\n",
       "      <th>1</th>\n",
       "      <td>No</td>\n",
       "      <td>No</td>\n",
       "      <td>No</td>\n",
       "      <td>No</td>\n",
       "      <td>No</td>\n",
       "      <td>No</td>\n",
       "      <td>No</td>\n",
       "      <td>No</td>\n",
       "    </tr>\n",
       "    <tr>\n",
       "      <th>2</th>\n",
       "      <td>Yes</td>\n",
       "      <td>Yes</td>\n",
       "      <td>No</td>\n",
       "      <td>No</td>\n",
       "      <td>Yes</td>\n",
       "      <td>Yes</td>\n",
       "      <td>Yes</td>\n",
       "      <td>Yes</td>\n",
       "    </tr>\n",
       "    <tr>\n",
       "      <th>3</th>\n",
       "      <td>No</td>\n",
       "      <td>Yes</td>\n",
       "      <td>No</td>\n",
       "      <td>No</td>\n",
       "      <td>No</td>\n",
       "      <td>Yes</td>\n",
       "      <td>No</td>\n",
       "      <td>No</td>\n",
       "    </tr>\n",
       "    <tr>\n",
       "      <th>4</th>\n",
       "      <td>No</td>\n",
       "      <td>No</td>\n",
       "      <td>No</td>\n",
       "      <td>No</td>\n",
       "      <td>No</td>\n",
       "      <td>No</td>\n",
       "      <td>No</td>\n",
       "      <td>No</td>\n",
       "    </tr>\n",
       "  </tbody>\n",
       "</table>\n",
       "</div>"
      ],
      "text/plain": [
       "  FEVER DIARRHOEA BLOODYDIARRHOEA NAUSEA LOSSOFAPETITE ABDOMINALPAIN HEADACHE  \\\n",
       "0    No       Yes              No     No            No           Yes       No   \n",
       "1    No        No              No     No            No            No       No   \n",
       "2   Yes       Yes              No     No           Yes           Yes      Yes   \n",
       "3    No       Yes              No     No            No           Yes       No   \n",
       "4    No        No              No     No            No            No       No   \n",
       "\n",
       "  FATIGUE  \n",
       "0      No  \n",
       "1      No  \n",
       "2     Yes  \n",
       "3      No  \n",
       "4      No  "
      ]
     },
     "execution_count": 3,
     "metadata": {},
     "output_type": "execute_result"
    }
   ],
   "source": [
    "Symptoms=Symp.drop(['GENDER','AGE','USEBOREWELLFORDRINKINGANDCOOKING','USEWELLWATERFORDRINKINGANDCOOKING','PLABDPAIN','USESTREAMWATERFORDRINKINGANDCOOKING','WATERTREATMENT','TOILET','TYPEOFHOUSEHOLD','Longitude','Latitude','UniqueKey','STATUS1','OVERALLSTATUS','OCCUPATION','TOTALNUMBEROFHH','TOTALNUMBEROFBEDROOMS','DOI','NAUSEA1','RECOVERYSTATUS','TREATMENTSTATUS','PDIAH','PBDIAH1','PNAUSEA','PVOMITING','PLOA','PHEADACHE','NODABDPAIN'],axis=1)\n",
    "Symptoms.head(5)"
   ]
  },
  {
   "cell_type": "markdown",
   "metadata": {},
   "source": [
    "Data Preparation By INTEGER ENCODING AND MAPPING CONCEPT"
   ]
  },
  {
   "cell_type": "code",
   "execution_count": 4,
   "metadata": {
    "scrolled": true
   },
   "outputs": [
    {
     "data": {
      "text/plain": [
       "array(['No', 'Yes'], dtype=object)"
      ]
     },
     "execution_count": 4,
     "metadata": {},
     "output_type": "execute_result"
    }
   ],
   "source": [
    "#FOR FEVER ATTRIBUTE\n",
    "Symptoms['FEVER'].unique()"
   ]
  },
  {
   "cell_type": "code",
   "execution_count": 5,
   "metadata": {},
   "outputs": [
    {
     "data": {
      "text/plain": [
       "0    0\n",
       "1    0\n",
       "2    1\n",
       "3    0\n",
       "4    0\n",
       "5    1\n",
       "6    0\n",
       "7    1\n",
       "8    1\n",
       "9    1\n",
       "Name: FEVER, dtype: int64"
      ]
     },
     "execution_count": 5,
     "metadata": {},
     "output_type": "execute_result"
    }
   ],
   "source": [
    "cleanup_nums={\"No\":0,\"Yes\":1}\n",
    "Fever = Symptoms[\"FEVER\"].map(cleanup_nums)\n",
    "Fever.head(10)"
   ]
  },
  {
   "cell_type": "code",
   "execution_count": 6,
   "metadata": {},
   "outputs": [
    {
     "data": {
      "text/plain": [
       "array(['Yes', 'No'], dtype=object)"
      ]
     },
     "execution_count": 6,
     "metadata": {},
     "output_type": "execute_result"
    }
   ],
   "source": [
    "#FOR DIARRHOEA ATTRIBUTE\n",
    "Symptoms['DIARRHOEA'].unique()"
   ]
  },
  {
   "cell_type": "code",
   "execution_count": 7,
   "metadata": {},
   "outputs": [
    {
     "data": {
      "text/plain": [
       "0    1\n",
       "1    0\n",
       "2    1\n",
       "3    1\n",
       "4    0\n",
       "5    1\n",
       "6    0\n",
       "7    1\n",
       "8    1\n",
       "9    1\n",
       "Name: DIARRHOEA, dtype: int64"
      ]
     },
     "execution_count": 7,
     "metadata": {},
     "output_type": "execute_result"
    }
   ],
   "source": [
    "cleanup_nums={\"No\":0,\"Yes\":1}\n",
    "Diarrhoea=Symptoms[\"DIARRHOEA\"].map(cleanup_nums)\n",
    "Diarrhoea.head(10)"
   ]
  },
  {
   "cell_type": "code",
   "execution_count": 8,
   "metadata": {},
   "outputs": [
    {
     "data": {
      "text/plain": [
       "array(['No', 'Yes'], dtype=object)"
      ]
     },
     "execution_count": 8,
     "metadata": {},
     "output_type": "execute_result"
    }
   ],
   "source": [
    "#FOR BLOODYDIARRHOEA ATTRIBUTE\n",
    "Symptoms['BLOODYDIARRHOEA'].unique()"
   ]
  },
  {
   "cell_type": "code",
   "execution_count": 9,
   "metadata": {},
   "outputs": [
    {
     "data": {
      "text/plain": [
       "0    0\n",
       "1    0\n",
       "2    0\n",
       "3    0\n",
       "4    0\n",
       "5    0\n",
       "6    0\n",
       "7    0\n",
       "8    0\n",
       "9    1\n",
       "Name: BLOODYDIARRHOEA, dtype: int64"
      ]
     },
     "execution_count": 9,
     "metadata": {},
     "output_type": "execute_result"
    }
   ],
   "source": [
    "cleanup_nums={\"No\":0,\"Yes\":1}\n",
    "BloodyDiarrhoea=Symptoms[\"BLOODYDIARRHOEA\"].map(cleanup_nums)\n",
    "BloodyDiarrhoea.head(10)"
   ]
  },
  {
   "cell_type": "code",
   "execution_count": 10,
   "metadata": {},
   "outputs": [
    {
     "data": {
      "text/plain": [
       "array(['No', 'Yes'], dtype=object)"
      ]
     },
     "execution_count": 10,
     "metadata": {},
     "output_type": "execute_result"
    }
   ],
   "source": [
    "#FOR NAUSEA ATTRIBUTE\n",
    "Symptoms['NAUSEA'].unique()"
   ]
  },
  {
   "cell_type": "code",
   "execution_count": 11,
   "metadata": {},
   "outputs": [
    {
     "data": {
      "text/plain": [
       "0    0\n",
       "1    0\n",
       "2    0\n",
       "3    0\n",
       "4    0\n",
       "5    0\n",
       "6    0\n",
       "7    0\n",
       "8    0\n",
       "9    0\n",
       "Name: NAUSEA, dtype: int64"
      ]
     },
     "execution_count": 11,
     "metadata": {},
     "output_type": "execute_result"
    }
   ],
   "source": [
    "cleanup_nums={\"No\":0,\"Yes\":1}\n",
    "Nausea=Symptoms[\"NAUSEA\"].map(cleanup_nums)\n",
    "Nausea.head(10)"
   ]
  },
  {
   "cell_type": "code",
   "execution_count": 12,
   "metadata": {},
   "outputs": [
    {
     "data": {
      "text/plain": [
       "array(['No', 'Yes'], dtype=object)"
      ]
     },
     "execution_count": 12,
     "metadata": {},
     "output_type": "execute_result"
    }
   ],
   "source": [
    "#FOR LOSSOFAPETITE ATTRIBUTE\n",
    "Symptoms['LOSSOFAPETITE'].unique()"
   ]
  },
  {
   "cell_type": "code",
   "execution_count": 13,
   "metadata": {},
   "outputs": [
    {
     "data": {
      "text/plain": [
       "0    0\n",
       "1    0\n",
       "2    1\n",
       "3    0\n",
       "4    0\n",
       "5    1\n",
       "6    0\n",
       "7    0\n",
       "8    0\n",
       "9    0\n",
       "Name: LOSSOFAPETITE, dtype: int64"
      ]
     },
     "execution_count": 13,
     "metadata": {},
     "output_type": "execute_result"
    }
   ],
   "source": [
    "cleanup_nums={\"No\":0,\"Yes\":1}\n",
    "LossOfApetite=Symptoms[\"LOSSOFAPETITE\"].map(cleanup_nums)\n",
    "LossOfApetite.head(10)"
   ]
  },
  {
   "cell_type": "code",
   "execution_count": 14,
   "metadata": {},
   "outputs": [
    {
     "data": {
      "text/plain": [
       "array(['Yes', 'No'], dtype=object)"
      ]
     },
     "execution_count": 14,
     "metadata": {},
     "output_type": "execute_result"
    }
   ],
   "source": [
    "#FOR ABDOMINALPAIN ATTRIBUTE\n",
    "Symptoms['ABDOMINALPAIN'].unique()"
   ]
  },
  {
   "cell_type": "code",
   "execution_count": 15,
   "metadata": {},
   "outputs": [
    {
     "data": {
      "text/plain": [
       "0    1\n",
       "1    0\n",
       "2    1\n",
       "3    1\n",
       "4    0\n",
       "5    1\n",
       "6    0\n",
       "7    0\n",
       "8    0\n",
       "9    1\n",
       "Name: ABDOMINALPAIN, dtype: int64"
      ]
     },
     "execution_count": 15,
     "metadata": {},
     "output_type": "execute_result"
    }
   ],
   "source": [
    "cleanup_nums={\"No\":0,\"Yes\":1}\n",
    "AbdominalPain=Symptoms[\"ABDOMINALPAIN\"].map(cleanup_nums)\n",
    "AbdominalPain.head(10)"
   ]
  },
  {
   "cell_type": "code",
   "execution_count": 16,
   "metadata": {},
   "outputs": [
    {
     "data": {
      "text/plain": [
       "array(['No', 'Yes'], dtype=object)"
      ]
     },
     "execution_count": 16,
     "metadata": {},
     "output_type": "execute_result"
    }
   ],
   "source": [
    "#FOR HEADACHE ATTRIBUTE \n",
    "Symptoms['HEADACHE'].unique()"
   ]
  },
  {
   "cell_type": "code",
   "execution_count": 17,
   "metadata": {},
   "outputs": [
    {
     "data": {
      "text/plain": [
       "0    0\n",
       "1    0\n",
       "2    1\n",
       "3    0\n",
       "4    0\n",
       "5    0\n",
       "6    0\n",
       "7    0\n",
       "8    0\n",
       "9    0\n",
       "Name: HEADACHE, dtype: int64"
      ]
     },
     "execution_count": 17,
     "metadata": {},
     "output_type": "execute_result"
    }
   ],
   "source": [
    "cleanup_nums={\"No\":0,\"Yes\":1}\n",
    "Headache=Symptoms[\"HEADACHE\"].map(cleanup_nums)\n",
    "Headache.head(10)"
   ]
  },
  {
   "cell_type": "code",
   "execution_count": 18,
   "metadata": {},
   "outputs": [
    {
     "data": {
      "text/plain": [
       "array(['No', 'Yes'], dtype=object)"
      ]
     },
     "execution_count": 18,
     "metadata": {},
     "output_type": "execute_result"
    }
   ],
   "source": [
    "#FOR FATIGUE ATTRIBUTE\n",
    "Symptoms['FATIGUE'].unique()\n"
   ]
  },
  {
   "cell_type": "code",
   "execution_count": 19,
   "metadata": {},
   "outputs": [
    {
     "data": {
      "text/plain": [
       "0    0\n",
       "1    0\n",
       "2    1\n",
       "3    0\n",
       "4    0\n",
       "5    1\n",
       "6    0\n",
       "7    0\n",
       "8    0\n",
       "9    0\n",
       "Name: FATIGUE, dtype: int64"
      ]
     },
     "execution_count": 19,
     "metadata": {},
     "output_type": "execute_result"
    }
   ],
   "source": [
    "cleanup_nums={\"No\":0,\"Yes\":1}\n",
    "Fatigue=Symptoms[\"FATIGUE\"].map(cleanup_nums)\n",
    "Fatigue.head(10)"
   ]
  },
  {
   "cell_type": "code",
   "execution_count": 20,
   "metadata": {},
   "outputs": [],
   "source": [
    "#MAKING A NEW SYMPTOM DATA CSV FILE\n",
    "SymptomData=pd.concat([Fever,BloodyDiarrhoea,Nausea,LossOfApetite,AbdominalPain,Headache,Fatigue,Diarrhoea],axis=1)"
   ]
  },
  {
   "cell_type": "code",
   "execution_count": 21,
   "metadata": {},
   "outputs": [
    {
     "data": {
      "text/html": [
       "<div>\n",
       "<style scoped>\n",
       "    .dataframe tbody tr th:only-of-type {\n",
       "        vertical-align: middle;\n",
       "    }\n",
       "\n",
       "    .dataframe tbody tr th {\n",
       "        vertical-align: top;\n",
       "    }\n",
       "\n",
       "    .dataframe thead th {\n",
       "        text-align: right;\n",
       "    }\n",
       "</style>\n",
       "<table border=\"1\" class=\"dataframe\">\n",
       "  <thead>\n",
       "    <tr style=\"text-align: right;\">\n",
       "      <th></th>\n",
       "      <th>FEVER</th>\n",
       "      <th>BLOODYDIARRHOEA</th>\n",
       "      <th>NAUSEA</th>\n",
       "      <th>LOSSOFAPETITE</th>\n",
       "      <th>ABDOMINALPAIN</th>\n",
       "      <th>HEADACHE</th>\n",
       "      <th>FATIGUE</th>\n",
       "      <th>DIARRHOEA</th>\n",
       "    </tr>\n",
       "  </thead>\n",
       "  <tbody>\n",
       "    <tr>\n",
       "      <th>0</th>\n",
       "      <td>0</td>\n",
       "      <td>0</td>\n",
       "      <td>0</td>\n",
       "      <td>0</td>\n",
       "      <td>1</td>\n",
       "      <td>0</td>\n",
       "      <td>0</td>\n",
       "      <td>1</td>\n",
       "    </tr>\n",
       "    <tr>\n",
       "      <th>1</th>\n",
       "      <td>0</td>\n",
       "      <td>0</td>\n",
       "      <td>0</td>\n",
       "      <td>0</td>\n",
       "      <td>0</td>\n",
       "      <td>0</td>\n",
       "      <td>0</td>\n",
       "      <td>0</td>\n",
       "    </tr>\n",
       "    <tr>\n",
       "      <th>2</th>\n",
       "      <td>1</td>\n",
       "      <td>0</td>\n",
       "      <td>0</td>\n",
       "      <td>1</td>\n",
       "      <td>1</td>\n",
       "      <td>1</td>\n",
       "      <td>1</td>\n",
       "      <td>1</td>\n",
       "    </tr>\n",
       "    <tr>\n",
       "      <th>3</th>\n",
       "      <td>0</td>\n",
       "      <td>0</td>\n",
       "      <td>0</td>\n",
       "      <td>0</td>\n",
       "      <td>1</td>\n",
       "      <td>0</td>\n",
       "      <td>0</td>\n",
       "      <td>1</td>\n",
       "    </tr>\n",
       "    <tr>\n",
       "      <th>4</th>\n",
       "      <td>0</td>\n",
       "      <td>0</td>\n",
       "      <td>0</td>\n",
       "      <td>0</td>\n",
       "      <td>0</td>\n",
       "      <td>0</td>\n",
       "      <td>0</td>\n",
       "      <td>0</td>\n",
       "    </tr>\n",
       "  </tbody>\n",
       "</table>\n",
       "</div>"
      ],
      "text/plain": [
       "   FEVER  BLOODYDIARRHOEA  NAUSEA  LOSSOFAPETITE  ABDOMINALPAIN  HEADACHE  \\\n",
       "0      0                0       0              0              1         0   \n",
       "1      0                0       0              0              0         0   \n",
       "2      1                0       0              1              1         1   \n",
       "3      0                0       0              0              1         0   \n",
       "4      0                0       0              0              0         0   \n",
       "\n",
       "   FATIGUE  DIARRHOEA  \n",
       "0        0          1  \n",
       "1        0          0  \n",
       "2        1          1  \n",
       "3        0          1  \n",
       "4        0          0  "
      ]
     },
     "execution_count": 21,
     "metadata": {},
     "output_type": "execute_result"
    }
   ],
   "source": [
    "SymptomData.head()"
   ]
  },
  {
   "cell_type": "code",
   "execution_count": 22,
   "metadata": {},
   "outputs": [],
   "source": [
    "#CONVERTING THE DATAFRAME INTO CSV FILE\n",
    "SymptomData.to_csv(\"dataSYM.csv\")"
   ]
  },
  {
   "cell_type": "markdown",
   "metadata": {},
   "source": [
    "MODEL AND PREDICT\n"
   ]
  },
  {
   "cell_type": "code",
   "execution_count": 23,
   "metadata": {},
   "outputs": [],
   "source": [
    "#GUASSIAN NAIVE BAYES "
   ]
  },
  {
   "cell_type": "code",
   "execution_count": 24,
   "metadata": {},
   "outputs": [],
   "source": [
    "#DATA SLICING\n",
    "features = SymptomData.values[:,:7]\n",
    "target = SymptomData.values[:,7]\n",
    "features_train, features_test, target_train, target_test = train_test_split(features,\n",
    "                                                                            target, test_size = 0.33, random_state = 10)"
   ]
  },
  {
   "cell_type": "markdown",
   "metadata": {},
   "source": [
    "The features_train & target_train consists of training data and the features_test & target_test consists of testing data."
   ]
  },
  {
   "cell_type": "code",
   "execution_count": 25,
   "metadata": {},
   "outputs": [],
   "source": [
    "#Gaussian naive bayes implementation"
   ]
  },
  {
   "cell_type": "code",
   "execution_count": 26,
   "metadata": {},
   "outputs": [],
   "source": [
    "clf = GaussianNB()\n",
    "clf.fit(features_train, target_train)\n",
    "target_pred = clf.predict(features_test)"
   ]
  },
  {
   "cell_type": "code",
   "execution_count": 27,
   "metadata": {},
   "outputs": [],
   "source": [
    "#We have built a GaussianNB classifier.\n",
    "#The classifier is trained using training data.\n",
    "#We can use fit() method for training it.\n",
    "#After building a classifier, our model is ready to make predictions.\n",
    "#We can use predict() method with test set features as its parameters."
   ]
  },
  {
   "cell_type": "markdown",
   "metadata": {},
   "source": [
    "Accuracy of our Gaussian Naive Bayes model"
   ]
  },
  {
   "cell_type": "code",
   "execution_count": 28,
   "metadata": {},
   "outputs": [
    {
     "data": {
      "text/plain": [
       "88.88888888888889"
      ]
     },
     "execution_count": 28,
     "metadata": {},
     "output_type": "execute_result"
    }
   ],
   "source": [
    "acc=accuracy_score(target_test, target_pred, normalize = True)\n",
    "acc=acc*100\n",
    "acc"
   ]
  },
  {
   "cell_type": "code",
   "execution_count": 29,
   "metadata": {},
   "outputs": [],
   "source": [
    "#Our model is giving an accuracy of 88%"
   ]
  },
  {
   "cell_type": "code",
   "execution_count": 30,
   "metadata": {},
   "outputs": [],
   "source": [
    "#SVM "
   ]
  },
  {
   "cell_type": "code",
   "execution_count": 31,
   "metadata": {},
   "outputs": [
    {
     "data": {
      "text/plain": [
       "97.22"
      ]
     },
     "execution_count": 31,
     "metadata": {},
     "output_type": "execute_result"
    }
   ],
   "source": [
    "svc = SVC()\n",
    "svc.fit(features_train, target_train)\n",
    "target_pred = svc.predict(features_test)\n",
    "acc_svc = round(svc.score(features_train, target_train) * 100, 2)\n",
    "acc_svc\n"
   ]
  },
  {
   "cell_type": "code",
   "execution_count": 32,
   "metadata": {},
   "outputs": [
    {
     "data": {
      "text/plain": [
       "88.89"
      ]
     },
     "execution_count": 32,
     "metadata": {},
     "output_type": "execute_result"
    }
   ],
   "source": [
    "#KNN\n",
    "knn = KNeighborsClassifier(n_neighbors =7)\n",
    "knn.fit(features_train, target_train)\n",
    "Y_pred = knn.predict(features_test)\n",
    "acc_knn = round(knn.score(features_train, target_train) * 100, 2)\n",
    "acc_knn\n"
   ]
  },
  {
   "cell_type": "code",
   "execution_count": null,
   "metadata": {},
   "outputs": [],
   "source": []
  },
  {
   "cell_type": "code",
   "execution_count": null,
   "metadata": {},
   "outputs": [],
   "source": []
  },
  {
   "cell_type": "code",
   "execution_count": 33,
   "metadata": {},
   "outputs": [
    {
     "data": {
      "text/html": [
       "<div>\n",
       "<style scoped>\n",
       "    .dataframe tbody tr th:only-of-type {\n",
       "        vertical-align: middle;\n",
       "    }\n",
       "\n",
       "    .dataframe tbody tr th {\n",
       "        vertical-align: top;\n",
       "    }\n",
       "\n",
       "    .dataframe thead th {\n",
       "        text-align: right;\n",
       "    }\n",
       "</style>\n",
       "<table border=\"1\" class=\"dataframe\">\n",
       "  <thead>\n",
       "    <tr style=\"text-align: right;\">\n",
       "      <th></th>\n",
       "      <th>Model</th>\n",
       "      <th>Score</th>\n",
       "    </tr>\n",
       "  </thead>\n",
       "  <tbody>\n",
       "    <tr>\n",
       "      <th>0</th>\n",
       "      <td>Support Vector Machines</td>\n",
       "      <td>97.220000</td>\n",
       "    </tr>\n",
       "    <tr>\n",
       "      <th>1</th>\n",
       "      <td>KNN</td>\n",
       "      <td>88.890000</td>\n",
       "    </tr>\n",
       "    <tr>\n",
       "      <th>2</th>\n",
       "      <td>Naive Bayes</td>\n",
       "      <td>88.888889</td>\n",
       "    </tr>\n",
       "  </tbody>\n",
       "</table>\n",
       "</div>"
      ],
      "text/plain": [
       "                     Model      Score\n",
       "0  Support Vector Machines  97.220000\n",
       "1                      KNN  88.890000\n",
       "2              Naive Bayes  88.888889"
      ]
     },
     "execution_count": 33,
     "metadata": {},
     "output_type": "execute_result"
    }
   ],
   "source": [
    "models = pd.DataFrame({\n",
    "    'Model': ['Support Vector Machines', 'KNN',  \n",
    "               'Naive Bayes'],\n",
    "    'Score': [acc_svc, acc_knn, acc]})\n",
    "models.sort_values(by='Score', ascending=False)\n"
   ]
  },
  {
   "cell_type": "code",
   "execution_count": null,
   "metadata": {},
   "outputs": [],
   "source": []
  },
  {
   "cell_type": "code",
   "execution_count": null,
   "metadata": {},
   "outputs": [],
   "source": []
  },
  {
   "cell_type": "code",
   "execution_count": null,
   "metadata": {},
   "outputs": [],
   "source": []
  }
 ],
 "metadata": {
  "kernelspec": {
   "display_name": "Python 3",
   "language": "python",
   "name": "python3"
  },
  "language_info": {
   "codemirror_mode": {
    "name": "ipython",
    "version": 3
   },
   "file_extension": ".py",
   "mimetype": "text/x-python",
   "name": "python",
   "nbconvert_exporter": "python",
   "pygments_lexer": "ipython3",
   "version": "3.5.2"
  }
 },
 "nbformat": 4,
 "nbformat_minor": 2
}
