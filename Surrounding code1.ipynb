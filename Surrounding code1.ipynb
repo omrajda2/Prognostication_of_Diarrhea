{
 "cells": [
  {
   "cell_type": "code",
   "execution_count": 61,
   "metadata": {},
   "outputs": [],
   "source": [
    "#Data Analysis and Wrangling\n",
    "import pandas as pd\n",
    "import numpy as np\n",
    "\n",
    "#To split the dataset into train and test datasets\n",
    "from sklearn.cross_validation import train_test_split\n",
    "#To model the Gaussian Navie Bayes classifier\n",
    "from sklearn.naive_bayes import GaussianNB\n",
    "#To calculate the accuracy score of the model\n",
    "from sklearn.metrics import accuracy_score\n",
    "# SVC \n",
    "from sklearn.svm import SVC, LinearSVC\n",
    "#KNN\n",
    "from sklearn.neighbors import KNeighborsClassifier"
   ]
  },
  {
   "cell_type": "code",
   "execution_count": 62,
   "metadata": {
    "scrolled": true
   },
   "outputs": [
    {
     "data": {
      "text/html": [
       "<div>\n",
       "<style scoped>\n",
       "    .dataframe tbody tr th:only-of-type {\n",
       "        vertical-align: middle;\n",
       "    }\n",
       "\n",
       "    .dataframe tbody tr th {\n",
       "        vertical-align: top;\n",
       "    }\n",
       "\n",
       "    .dataframe thead th {\n",
       "        text-align: right;\n",
       "    }\n",
       "</style>\n",
       "<table border=\"1\" class=\"dataframe\">\n",
       "  <thead>\n",
       "    <tr style=\"text-align: right;\">\n",
       "      <th></th>\n",
       "      <th>UniqueKey</th>\n",
       "      <th>STATUS1</th>\n",
       "      <th>OVERALLSTATUS</th>\n",
       "      <th>Latitude</th>\n",
       "      <th>Longitude</th>\n",
       "      <th>GENDER</th>\n",
       "      <th>OCCUPATION</th>\n",
       "      <th>TOTALNUMBEROFHH</th>\n",
       "      <th>TOTALNUMBEROFBEDROOMS</th>\n",
       "      <th>AGE</th>\n",
       "      <th>...</th>\n",
       "      <th>PLOA</th>\n",
       "      <th>PHEADACHE</th>\n",
       "      <th>NODABDPAIN</th>\n",
       "      <th>PLABDPAIN</th>\n",
       "      <th>TYPEOFHOUSEHOLD</th>\n",
       "      <th>TOILET</th>\n",
       "      <th>WATERTREATMENT</th>\n",
       "      <th>USESTREAMWATERFORDRINKINGANDCOOKING</th>\n",
       "      <th>USEWELLWATERFORDRINKINGANDCOOKING</th>\n",
       "      <th>USEBOREWELLFORDRINKINGANDCOOKING</th>\n",
       "    </tr>\n",
       "  </thead>\n",
       "  <tbody>\n",
       "    <tr>\n",
       "      <th>0</th>\n",
       "      <td>1</td>\n",
       "      <td>CASE</td>\n",
       "      <td>CASE</td>\n",
       "      <td>15.592223</td>\n",
       "      <td>74.162292</td>\n",
       "      <td>1</td>\n",
       "      <td>UNEMPLOYED</td>\n",
       "      <td>5</td>\n",
       "      <td>2</td>\n",
       "      <td>35</td>\n",
       "      <td>...</td>\n",
       "      <td>NaN</td>\n",
       "      <td>NaN</td>\n",
       "      <td>NaN</td>\n",
       "      <td>YES</td>\n",
       "      <td>SEMI-PUCCA</td>\n",
       "      <td>YES</td>\n",
       "      <td>BOILING</td>\n",
       "      <td>No</td>\n",
       "      <td>No</td>\n",
       "      <td>Yes</td>\n",
       "    </tr>\n",
       "    <tr>\n",
       "      <th>1</th>\n",
       "      <td>2</td>\n",
       "      <td>CONTROL</td>\n",
       "      <td>NEIGHBOUR CONTROL</td>\n",
       "      <td>15.600415</td>\n",
       "      <td>74.170596</td>\n",
       "      <td>1</td>\n",
       "      <td>UNEMPLOYED</td>\n",
       "      <td>6</td>\n",
       "      <td>2</td>\n",
       "      <td>37</td>\n",
       "      <td>...</td>\n",
       "      <td>NaN</td>\n",
       "      <td>NaN</td>\n",
       "      <td>NaN</td>\n",
       "      <td>NaN</td>\n",
       "      <td>PUCCA</td>\n",
       "      <td>YES</td>\n",
       "      <td>FILTERING</td>\n",
       "      <td>Yes</td>\n",
       "      <td>No</td>\n",
       "      <td>No</td>\n",
       "    </tr>\n",
       "    <tr>\n",
       "      <th>2</th>\n",
       "      <td>3</td>\n",
       "      <td>CASE</td>\n",
       "      <td>CASE</td>\n",
       "      <td>15.592117</td>\n",
       "      <td>74.162198</td>\n",
       "      <td>1</td>\n",
       "      <td>STUDENT</td>\n",
       "      <td>4</td>\n",
       "      <td>2</td>\n",
       "      <td>18</td>\n",
       "      <td>...</td>\n",
       "      <td>NO</td>\n",
       "      <td>NO</td>\n",
       "      <td>NaN</td>\n",
       "      <td>NO</td>\n",
       "      <td>SEMI-PUCCA</td>\n",
       "      <td>YES</td>\n",
       "      <td>NONE</td>\n",
       "      <td>Yes</td>\n",
       "      <td>No</td>\n",
       "      <td>No</td>\n",
       "    </tr>\n",
       "    <tr>\n",
       "      <th>3</th>\n",
       "      <td>4</td>\n",
       "      <td>CASE</td>\n",
       "      <td>CASE</td>\n",
       "      <td>15.592117</td>\n",
       "      <td>74.162198</td>\n",
       "      <td>0</td>\n",
       "      <td>STUDENT</td>\n",
       "      <td>4</td>\n",
       "      <td>2</td>\n",
       "      <td>16</td>\n",
       "      <td>...</td>\n",
       "      <td>NaN</td>\n",
       "      <td>NaN</td>\n",
       "      <td>4.0</td>\n",
       "      <td>NO</td>\n",
       "      <td>SEMI-PUCCA</td>\n",
       "      <td>YES</td>\n",
       "      <td>NONE</td>\n",
       "      <td>Yes</td>\n",
       "      <td>No</td>\n",
       "      <td>No</td>\n",
       "    </tr>\n",
       "    <tr>\n",
       "      <th>4</th>\n",
       "      <td>5</td>\n",
       "      <td>CONTROL</td>\n",
       "      <td>NEIGHBOUR CONTROL</td>\n",
       "      <td>15.589461</td>\n",
       "      <td>74.160910</td>\n",
       "      <td>0</td>\n",
       "      <td>UNEMPLOYED</td>\n",
       "      <td>4</td>\n",
       "      <td>3</td>\n",
       "      <td>26</td>\n",
       "      <td>...</td>\n",
       "      <td>NaN</td>\n",
       "      <td>NaN</td>\n",
       "      <td>NaN</td>\n",
       "      <td>NaN</td>\n",
       "      <td>SEMI-PUCCA</td>\n",
       "      <td>YES</td>\n",
       "      <td>NONE</td>\n",
       "      <td>No</td>\n",
       "      <td>Yes</td>\n",
       "      <td>No</td>\n",
       "    </tr>\n",
       "  </tbody>\n",
       "</table>\n",
       "<p>5 rows × 36 columns</p>\n",
       "</div>"
      ],
      "text/plain": [
       "   UniqueKey  STATUS1      OVERALLSTATUS   Latitude  Longitude  GENDER  \\\n",
       "0          1     CASE               CASE  15.592223  74.162292       1   \n",
       "1          2  CONTROL  NEIGHBOUR CONTROL  15.600415  74.170596       1   \n",
       "2          3     CASE               CASE  15.592117  74.162198       1   \n",
       "3          4     CASE               CASE  15.592117  74.162198       0   \n",
       "4          5  CONTROL  NEIGHBOUR CONTROL  15.589461  74.160910       0   \n",
       "\n",
       "   OCCUPATION  TOTALNUMBEROFHH  TOTALNUMBEROFBEDROOMS  AGE  \\\n",
       "0  UNEMPLOYED                5                      2   35   \n",
       "1  UNEMPLOYED                6                      2   37   \n",
       "2     STUDENT                4                      2   18   \n",
       "3     STUDENT                4                      2   16   \n",
       "4  UNEMPLOYED                4                      3   26   \n",
       "\n",
       "                ...                PLOA PHEADACHE NODABDPAIN PLABDPAIN  \\\n",
       "0               ...                 NaN       NaN        NaN       YES   \n",
       "1               ...                 NaN       NaN        NaN       NaN   \n",
       "2               ...                  NO        NO        NaN        NO   \n",
       "3               ...                 NaN       NaN        4.0        NO   \n",
       "4               ...                 NaN       NaN        NaN       NaN   \n",
       "\n",
       "  TYPEOFHOUSEHOLD TOILET WATERTREATMENT USESTREAMWATERFORDRINKINGANDCOOKING  \\\n",
       "0      SEMI-PUCCA    YES        BOILING                                  No   \n",
       "1           PUCCA    YES      FILTERING                                 Yes   \n",
       "2      SEMI-PUCCA    YES           NONE                                 Yes   \n",
       "3      SEMI-PUCCA    YES           NONE                                 Yes   \n",
       "4      SEMI-PUCCA    YES           NONE                                  No   \n",
       "\n",
       "  USEWELLWATERFORDRINKINGANDCOOKING USEBOREWELLFORDRINKINGANDCOOKING  \n",
       "0                                No                              Yes  \n",
       "1                                No                               No  \n",
       "2                                No                               No  \n",
       "3                                No                               No  \n",
       "4                               Yes                               No  \n",
       "\n",
       "[5 rows x 36 columns]"
      ]
     },
     "execution_count": 62,
     "metadata": {},
     "output_type": "execute_result"
    }
   ],
   "source": [
    "data=pd.read_csv(\"/home/omraj/project/des.csv\")\n",
    "Surr=data\n",
    "Surr.head(5)"
   ]
  },
  {
   "cell_type": "code",
   "execution_count": 63,
   "metadata": {
    "scrolled": true
   },
   "outputs": [],
   "source": [
    "#Surr.info()"
   ]
  },
  {
   "cell_type": "code",
   "execution_count": 93,
   "metadata": {},
   "outputs": [
    {
     "data": {
      "text/html": [
       "<div>\n",
       "<style scoped>\n",
       "    .dataframe tbody tr th:only-of-type {\n",
       "        vertical-align: middle;\n",
       "    }\n",
       "\n",
       "    .dataframe tbody tr th {\n",
       "        vertical-align: top;\n",
       "    }\n",
       "\n",
       "    .dataframe thead th {\n",
       "        text-align: right;\n",
       "    }\n",
       "</style>\n",
       "<table border=\"1\" class=\"dataframe\">\n",
       "  <thead>\n",
       "    <tr style=\"text-align: right;\">\n",
       "      <th></th>\n",
       "      <th>DIARRHOEA</th>\n",
       "      <th>TYPEOFHOUSEHOLD</th>\n",
       "      <th>TOILET</th>\n",
       "      <th>WATERTREATMENT</th>\n",
       "      <th>USESTREAMWATERFORDRINKINGANDCOOKING</th>\n",
       "      <th>USEWELLWATERFORDRINKINGANDCOOKING</th>\n",
       "      <th>USEBOREWELLFORDRINKINGANDCOOKING</th>\n",
       "    </tr>\n",
       "  </thead>\n",
       "  <tbody>\n",
       "    <tr>\n",
       "      <th>0</th>\n",
       "      <td>Yes</td>\n",
       "      <td>SEMI-PUCCA</td>\n",
       "      <td>YES</td>\n",
       "      <td>BOILING</td>\n",
       "      <td>No</td>\n",
       "      <td>No</td>\n",
       "      <td>Yes</td>\n",
       "    </tr>\n",
       "    <tr>\n",
       "      <th>1</th>\n",
       "      <td>No</td>\n",
       "      <td>PUCCA</td>\n",
       "      <td>YES</td>\n",
       "      <td>FILTERING</td>\n",
       "      <td>Yes</td>\n",
       "      <td>No</td>\n",
       "      <td>No</td>\n",
       "    </tr>\n",
       "    <tr>\n",
       "      <th>2</th>\n",
       "      <td>Yes</td>\n",
       "      <td>SEMI-PUCCA</td>\n",
       "      <td>YES</td>\n",
       "      <td>NONE</td>\n",
       "      <td>Yes</td>\n",
       "      <td>No</td>\n",
       "      <td>No</td>\n",
       "    </tr>\n",
       "    <tr>\n",
       "      <th>3</th>\n",
       "      <td>Yes</td>\n",
       "      <td>SEMI-PUCCA</td>\n",
       "      <td>YES</td>\n",
       "      <td>NONE</td>\n",
       "      <td>Yes</td>\n",
       "      <td>No</td>\n",
       "      <td>No</td>\n",
       "    </tr>\n",
       "    <tr>\n",
       "      <th>4</th>\n",
       "      <td>No</td>\n",
       "      <td>SEMI-PUCCA</td>\n",
       "      <td>YES</td>\n",
       "      <td>NONE</td>\n",
       "      <td>No</td>\n",
       "      <td>Yes</td>\n",
       "      <td>No</td>\n",
       "    </tr>\n",
       "  </tbody>\n",
       "</table>\n",
       "</div>"
      ],
      "text/plain": [
       "  DIARRHOEA TYPEOFHOUSEHOLD TOILET WATERTREATMENT  \\\n",
       "0       Yes      SEMI-PUCCA    YES        BOILING   \n",
       "1        No           PUCCA    YES      FILTERING   \n",
       "2       Yes      SEMI-PUCCA    YES           NONE   \n",
       "3       Yes      SEMI-PUCCA    YES           NONE   \n",
       "4        No      SEMI-PUCCA    YES           NONE   \n",
       "\n",
       "  USESTREAMWATERFORDRINKINGANDCOOKING USEWELLWATERFORDRINKINGANDCOOKING  \\\n",
       "0                                  No                                No   \n",
       "1                                 Yes                                No   \n",
       "2                                 Yes                                No   \n",
       "3                                 Yes                                No   \n",
       "4                                  No                               Yes   \n",
       "\n",
       "  USEBOREWELLFORDRINKINGANDCOOKING  \n",
       "0                              Yes  \n",
       "1                               No  \n",
       "2                               No  \n",
       "3                               No  \n",
       "4                               No  "
      ]
     },
     "execution_count": 93,
     "metadata": {},
     "output_type": "execute_result"
    }
   ],
   "source": [
    "Surrounding=Surr.drop(['UniqueKey','Latitude','Longitude','STATUS1','AGE','GENDER','DOI','OVERALLSTATUS','OCCUPATION','TOTALNUMBEROFHH','TOTALNUMBEROFBEDROOMS','FEVER','BLOODYDIARRHOEA','NAUSEA','NAUSEA1','PVOMITING','PLOA','PHEADACHE','NODABDPAIN','PLABDPAIN','LOSSOFAPETITE','ABDOMINALPAIN','HEADACHE','FATIGUE','RECOVERYSTATUS','TREATMENTSTATUS','PDIAH','PBDIAH1','PNAUSEA','PVOMITING','PLABDPAIN'],axis=1)\n",
    "Surrounding.head(5)"
   ]
  },
  {
   "cell_type": "code",
   "execution_count": null,
   "metadata": {},
   "outputs": [],
   "source": []
  },
  {
   "cell_type": "code",
   "execution_count": 94,
   "metadata": {},
   "outputs": [
    {
     "data": {
      "text/plain": [
       "array(['Yes', 'No'], dtype=object)"
      ]
     },
     "execution_count": 94,
     "metadata": {},
     "output_type": "execute_result"
    }
   ],
   "source": [
    "#for Age attribute\n",
    "Surrounding['DIARRHOEA'].unique()"
   ]
  },
  {
   "cell_type": "code",
   "execution_count": 95,
   "metadata": {},
   "outputs": [
    {
     "data": {
      "text/plain": [
       "0    1\n",
       "1    0\n",
       "2    1\n",
       "3    1\n",
       "4    0\n",
       "Name: DIARRHOEA, dtype: int64"
      ]
     },
     "execution_count": 95,
     "metadata": {},
     "output_type": "execute_result"
    }
   ],
   "source": [
    "cleanup_nums={\"No\":0,\"Yes\":1}\n",
    "Diarrhoea=Surrounding[\"DIARRHOEA\"].map(cleanup_nums)\n",
    "Diarrhoea.head(5)"
   ]
  },
  {
   "cell_type": "code",
   "execution_count": 96,
   "metadata": {},
   "outputs": [
    {
     "data": {
      "text/plain": [
       "array(['SEMI-PUCCA', 'PUCCA', 'KUTCHA'], dtype=object)"
      ]
     },
     "execution_count": 96,
     "metadata": {},
     "output_type": "execute_result"
    }
   ],
   "source": [
    "#for type of householde attribute\n",
    "Surrounding['TYPEOFHOUSEHOLD'].unique()"
   ]
  },
  {
   "cell_type": "code",
   "execution_count": 97,
   "metadata": {},
   "outputs": [
    {
     "data": {
      "text/plain": [
       "0    0\n",
       "1    1\n",
       "2    0\n",
       "3    0\n",
       "4    0\n",
       "Name: TYPEOFHOUSEHOLD, dtype: int64"
      ]
     },
     "execution_count": 97,
     "metadata": {},
     "output_type": "execute_result"
    }
   ],
   "source": [
    "cleanup_nums={'SEMI-PUCCA':0,'PUCCA':1,'KUTCHA':2}\n",
    "Typeofhousehold=Surrounding['TYPEOFHOUSEHOLD'].map(cleanup_nums)\n",
    "Typeofhousehold.head(5)"
   ]
  },
  {
   "cell_type": "code",
   "execution_count": 98,
   "metadata": {},
   "outputs": [
    {
     "data": {
      "text/plain": [
       "array(['YES', 'NO'], dtype=object)"
      ]
     },
     "execution_count": 98,
     "metadata": {},
     "output_type": "execute_result"
    }
   ],
   "source": [
    "#for toilet attribute\n",
    "Surrounding['TOILET'].unique()"
   ]
  },
  {
   "cell_type": "code",
   "execution_count": 99,
   "metadata": {},
   "outputs": [
    {
     "data": {
      "text/plain": [
       "0    1\n",
       "1    1\n",
       "2    1\n",
       "3    1\n",
       "4    1\n",
       "5    1\n",
       "6    1\n",
       "7    0\n",
       "8    0\n",
       "9    0\n",
       "Name: TOILET, dtype: int64"
      ]
     },
     "execution_count": 99,
     "metadata": {},
     "output_type": "execute_result"
    }
   ],
   "source": [
    "cleanup_nums={'YES':1,'NO':0}\n",
    "Toilet = Surrounding['TOILET'].map(cleanup_nums)\n",
    "Toilet.head(10)"
   ]
  },
  {
   "cell_type": "code",
   "execution_count": 100,
   "metadata": {},
   "outputs": [
    {
     "data": {
      "text/plain": [
       "array(['BOILING', 'FILTERING', 'NONE', 'BOTH'], dtype=object)"
      ]
     },
     "execution_count": 100,
     "metadata": {},
     "output_type": "execute_result"
    }
   ],
   "source": [
    "#for watertreatment attribute\n",
    "Surrounding['WATERTREATMENT'].unique()"
   ]
  },
  {
   "cell_type": "code",
   "execution_count": 101,
   "metadata": {},
   "outputs": [
    {
     "data": {
      "text/plain": [
       "0    0\n",
       "1    1\n",
       "2    2\n",
       "3    2\n",
       "4    2\n",
       "Name: WATERTREATMENT, dtype: int64"
      ]
     },
     "execution_count": 101,
     "metadata": {},
     "output_type": "execute_result"
    }
   ],
   "source": [
    "cleanup_nums={'BOILING':0,'FILTERING':1,'NONE':2,'BOTH':3}\n",
    "Watertreat=Surrounding['WATERTREATMENT'].map(cleanup_nums)\n",
    "Watertreat.head(5)"
   ]
  },
  {
   "cell_type": "code",
   "execution_count": 102,
   "metadata": {},
   "outputs": [
    {
     "data": {
      "text/plain": [
       "array(['No', 'Yes'], dtype=object)"
      ]
     },
     "execution_count": 102,
     "metadata": {},
     "output_type": "execute_result"
    }
   ],
   "source": [
    "#for usestreamwaterfordrinkingandcooking attrinute\n",
    "Surrounding['USESTREAMWATERFORDRINKINGANDCOOKING'].unique()"
   ]
  },
  {
   "cell_type": "code",
   "execution_count": 103,
   "metadata": {},
   "outputs": [
    {
     "data": {
      "text/plain": [
       "0    0\n",
       "1    1\n",
       "2    1\n",
       "3    1\n",
       "4    0\n",
       "Name: USESTREAMWATERFORDRINKINGANDCOOKING, dtype: int64"
      ]
     },
     "execution_count": 103,
     "metadata": {},
     "output_type": "execute_result"
    }
   ],
   "source": [
    "cleanup_nums={'No':0,'Yes':1}\n",
    "Streamwater=Surrounding['USESTREAMWATERFORDRINKINGANDCOOKING'].map(cleanup_nums)\n",
    "Streamwater.head(5)"
   ]
  },
  {
   "cell_type": "code",
   "execution_count": 104,
   "metadata": {},
   "outputs": [
    {
     "data": {
      "text/plain": [
       "array(['No', 'Yes'], dtype=object)"
      ]
     },
     "execution_count": 104,
     "metadata": {},
     "output_type": "execute_result"
    }
   ],
   "source": [
    "#for usewellwaterfordrinkingcooking attribute\n",
    "Surrounding['USEWELLWATERFORDRINKINGANDCOOKING'].unique()"
   ]
  },
  {
   "cell_type": "code",
   "execution_count": 105,
   "metadata": {},
   "outputs": [
    {
     "data": {
      "text/plain": [
       "0    0\n",
       "1    0\n",
       "2    0\n",
       "3    0\n",
       "4    1\n",
       "Name: USEWELLWATERFORDRINKINGANDCOOKING, dtype: int64"
      ]
     },
     "execution_count": 105,
     "metadata": {},
     "output_type": "execute_result"
    }
   ],
   "source": [
    "cleanup_nums={'No':0,'Yes':1}\n",
    "Wellwater=Surrounding['USEWELLWATERFORDRINKINGANDCOOKING'].map(cleanup_nums)\n",
    "Wellwater.head(5)"
   ]
  },
  {
   "cell_type": "code",
   "execution_count": 106,
   "metadata": {},
   "outputs": [
    {
     "data": {
      "text/plain": [
       "array(['Yes', 'No'], dtype=object)"
      ]
     },
     "execution_count": 106,
     "metadata": {},
     "output_type": "execute_result"
    }
   ],
   "source": [
    "#for useborwellfordrinkingandcooking attrinute\n",
    "Surrounding['USEBOREWELLFORDRINKINGANDCOOKING'].unique()"
   ]
  },
  {
   "cell_type": "code",
   "execution_count": 107,
   "metadata": {},
   "outputs": [
    {
     "data": {
      "text/plain": [
       "0    1\n",
       "1    0\n",
       "2    0\n",
       "3    0\n",
       "4    0\n",
       "Name: USEBOREWELLFORDRINKINGANDCOOKING, dtype: int64"
      ]
     },
     "execution_count": 107,
     "metadata": {},
     "output_type": "execute_result"
    }
   ],
   "source": [
    "cleanup_nums={'Yes':1,'No':0}\n",
    "Borwellwater=Surrounding['USEBOREWELLFORDRINKINGANDCOOKING'].map(cleanup_nums)\n",
    "Borwellwater.head(5)"
   ]
  },
  {
   "cell_type": "code",
   "execution_count": 108,
   "metadata": {},
   "outputs": [],
   "source": [
    "SurroundingData=pd.concat([Typeofhousehold,Toilet,Watertreat,Streamwater,Wellwater,Borwellwater,Diarrhoea],axis=1)"
   ]
  },
  {
   "cell_type": "code",
   "execution_count": null,
   "metadata": {},
   "outputs": [],
   "source": []
  },
  {
   "cell_type": "code",
   "execution_count": 109,
   "metadata": {},
   "outputs": [
    {
     "data": {
      "text/html": [
       "<div>\n",
       "<style scoped>\n",
       "    .dataframe tbody tr th:only-of-type {\n",
       "        vertical-align: middle;\n",
       "    }\n",
       "\n",
       "    .dataframe tbody tr th {\n",
       "        vertical-align: top;\n",
       "    }\n",
       "\n",
       "    .dataframe thead th {\n",
       "        text-align: right;\n",
       "    }\n",
       "</style>\n",
       "<table border=\"1\" class=\"dataframe\">\n",
       "  <thead>\n",
       "    <tr style=\"text-align: right;\">\n",
       "      <th></th>\n",
       "      <th>TYPEOFHOUSEHOLD</th>\n",
       "      <th>TOILET</th>\n",
       "      <th>WATERTREATMENT</th>\n",
       "      <th>USESTREAMWATERFORDRINKINGANDCOOKING</th>\n",
       "      <th>USEWELLWATERFORDRINKINGANDCOOKING</th>\n",
       "      <th>USEBOREWELLFORDRINKINGANDCOOKING</th>\n",
       "      <th>DIARRHOEA</th>\n",
       "    </tr>\n",
       "  </thead>\n",
       "  <tbody>\n",
       "    <tr>\n",
       "      <th>0</th>\n",
       "      <td>0</td>\n",
       "      <td>1</td>\n",
       "      <td>0</td>\n",
       "      <td>0</td>\n",
       "      <td>0</td>\n",
       "      <td>1</td>\n",
       "      <td>1</td>\n",
       "    </tr>\n",
       "    <tr>\n",
       "      <th>1</th>\n",
       "      <td>1</td>\n",
       "      <td>1</td>\n",
       "      <td>1</td>\n",
       "      <td>1</td>\n",
       "      <td>0</td>\n",
       "      <td>0</td>\n",
       "      <td>0</td>\n",
       "    </tr>\n",
       "    <tr>\n",
       "      <th>2</th>\n",
       "      <td>0</td>\n",
       "      <td>1</td>\n",
       "      <td>2</td>\n",
       "      <td>1</td>\n",
       "      <td>0</td>\n",
       "      <td>0</td>\n",
       "      <td>1</td>\n",
       "    </tr>\n",
       "    <tr>\n",
       "      <th>3</th>\n",
       "      <td>0</td>\n",
       "      <td>1</td>\n",
       "      <td>2</td>\n",
       "      <td>1</td>\n",
       "      <td>0</td>\n",
       "      <td>0</td>\n",
       "      <td>1</td>\n",
       "    </tr>\n",
       "    <tr>\n",
       "      <th>4</th>\n",
       "      <td>0</td>\n",
       "      <td>1</td>\n",
       "      <td>2</td>\n",
       "      <td>0</td>\n",
       "      <td>1</td>\n",
       "      <td>0</td>\n",
       "      <td>0</td>\n",
       "    </tr>\n",
       "  </tbody>\n",
       "</table>\n",
       "</div>"
      ],
      "text/plain": [
       "   TYPEOFHOUSEHOLD  TOILET  WATERTREATMENT  \\\n",
       "0                0       1               0   \n",
       "1                1       1               1   \n",
       "2                0       1               2   \n",
       "3                0       1               2   \n",
       "4                0       1               2   \n",
       "\n",
       "   USESTREAMWATERFORDRINKINGANDCOOKING  USEWELLWATERFORDRINKINGANDCOOKING  \\\n",
       "0                                    0                                  0   \n",
       "1                                    1                                  0   \n",
       "2                                    1                                  0   \n",
       "3                                    1                                  0   \n",
       "4                                    0                                  1   \n",
       "\n",
       "   USEBOREWELLFORDRINKINGANDCOOKING  DIARRHOEA  \n",
       "0                                 1          1  \n",
       "1                                 0          0  \n",
       "2                                 0          1  \n",
       "3                                 0          1  \n",
       "4                                 0          0  "
      ]
     },
     "execution_count": 109,
     "metadata": {},
     "output_type": "execute_result"
    }
   ],
   "source": [
    "SurroundingData.head()"
   ]
  },
  {
   "cell_type": "code",
   "execution_count": 110,
   "metadata": {},
   "outputs": [],
   "source": [
    "#DATA SLICING\n",
    "features = SurroundingData.values[:,:6]\n",
    "target = SurroundingData.values[:,6]\n",
    "features_train, features_test, target_train, target_test = train_test_split(features,\n",
    "                                                                            target, test_size = 0.33, random_state = 10)"
   ]
  },
  {
   "cell_type": "code",
   "execution_count": null,
   "metadata": {},
   "outputs": [],
   "source": []
  },
  {
   "cell_type": "code",
   "execution_count": 111,
   "metadata": {},
   "outputs": [
    {
     "data": {
      "text/plain": [
       "66.67"
      ]
     },
     "execution_count": 111,
     "metadata": {},
     "output_type": "execute_result"
    }
   ],
   "source": [
    "#KNN\n",
    "knn = KNeighborsClassifier(n_neighbors =7)\n",
    "knn.fit(features_train, target_train)\n",
    "Y_pred = knn.predict(features_test)\n",
    "acc_knn = round(knn.score(features_train, target_train) * 100, 2)\n",
    "acc_knn\n"
   ]
  },
  {
   "cell_type": "code",
   "execution_count": 112,
   "metadata": {},
   "outputs": [],
   "source": [
    "#SVM"
   ]
  },
  {
   "cell_type": "code",
   "execution_count": 113,
   "metadata": {},
   "outputs": [
    {
     "data": {
      "text/plain": [
       "66.67"
      ]
     },
     "execution_count": 113,
     "metadata": {},
     "output_type": "execute_result"
    }
   ],
   "source": [
    "svc = SVC()\n",
    "svc.fit(features_train, target_train)\n",
    "target_pred = svc.predict(features_test)\n",
    "acc_svc = round(svc.score(features_train, target_train) * 100, 2)\n",
    "acc_svc\n"
   ]
  },
  {
   "cell_type": "code",
   "execution_count": 114,
   "metadata": {},
   "outputs": [],
   "source": [
    "#Naive Bayes"
   ]
  },
  {
   "cell_type": "code",
   "execution_count": 115,
   "metadata": {},
   "outputs": [],
   "source": [
    "clf = GaussianNB()\n",
    "clf.fit(features_train, target_train)\n",
    "target_pred = clf.predict(features_test)"
   ]
  },
  {
   "cell_type": "code",
   "execution_count": 116,
   "metadata": {},
   "outputs": [
    {
     "data": {
      "text/plain": [
       "66.66666666666666"
      ]
     },
     "execution_count": 116,
     "metadata": {},
     "output_type": "execute_result"
    }
   ],
   "source": [
    "acc=accuracy_score(target_test, target_pred, normalize = True)\n",
    "acc=acc*100\n",
    "acc"
   ]
  },
  {
   "cell_type": "code",
   "execution_count": null,
   "metadata": {},
   "outputs": [],
   "source": []
  },
  {
   "cell_type": "code",
   "execution_count": 117,
   "metadata": {},
   "outputs": [
    {
     "data": {
      "text/html": [
       "<div>\n",
       "<style scoped>\n",
       "    .dataframe tbody tr th:only-of-type {\n",
       "        vertical-align: middle;\n",
       "    }\n",
       "\n",
       "    .dataframe tbody tr th {\n",
       "        vertical-align: top;\n",
       "    }\n",
       "\n",
       "    .dataframe thead th {\n",
       "        text-align: right;\n",
       "    }\n",
       "</style>\n",
       "<table border=\"1\" class=\"dataframe\">\n",
       "  <thead>\n",
       "    <tr style=\"text-align: right;\">\n",
       "      <th></th>\n",
       "      <th>Model</th>\n",
       "      <th>Score</th>\n",
       "    </tr>\n",
       "  </thead>\n",
       "  <tbody>\n",
       "    <tr>\n",
       "      <th>0</th>\n",
       "      <td>Support Vector Machines</td>\n",
       "      <td>66.670000</td>\n",
       "    </tr>\n",
       "    <tr>\n",
       "      <th>1</th>\n",
       "      <td>KNN</td>\n",
       "      <td>66.670000</td>\n",
       "    </tr>\n",
       "    <tr>\n",
       "      <th>2</th>\n",
       "      <td>Naive Bayes</td>\n",
       "      <td>66.666667</td>\n",
       "    </tr>\n",
       "  </tbody>\n",
       "</table>\n",
       "</div>"
      ],
      "text/plain": [
       "                     Model      Score\n",
       "0  Support Vector Machines  66.670000\n",
       "1                      KNN  66.670000\n",
       "2              Naive Bayes  66.666667"
      ]
     },
     "execution_count": 117,
     "metadata": {},
     "output_type": "execute_result"
    }
   ],
   "source": [
    "models = pd.DataFrame({\n",
    "    'Model': ['Support Vector Machines', 'KNN',  \n",
    "               'Naive Bayes'],\n",
    "    'Score': [acc_svc, acc_knn, acc]})\n",
    "models.sort_values(by='Score', ascending=False)\n"
   ]
  },
  {
   "cell_type": "code",
   "execution_count": null,
   "metadata": {},
   "outputs": [],
   "source": []
  },
  {
   "cell_type": "code",
   "execution_count": null,
   "metadata": {},
   "outputs": [],
   "source": []
  },
  {
   "cell_type": "code",
   "execution_count": null,
   "metadata": {},
   "outputs": [],
   "source": []
  }
 ],
 "metadata": {
  "kernelspec": {
   "display_name": "Python 3",
   "language": "python",
   "name": "python3"
  },
  "language_info": {
   "codemirror_mode": {
    "name": "ipython",
    "version": 3
   },
   "file_extension": ".py",
   "mimetype": "text/x-python",
   "name": "python",
   "nbconvert_exporter": "python",
   "pygments_lexer": "ipython3",
   "version": "3.5.2"
  }
 },
 "nbformat": 4,
 "nbformat_minor": 2
}
